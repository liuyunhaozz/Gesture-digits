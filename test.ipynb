{
 "cells": [
  {
   "cell_type": "code",
   "execution_count": 6,
   "metadata": {},
   "outputs": [],
   "source": [
    "import numpy as np\n",
    "import cv2\n",
    "import matplotlib.pyplot as plt"
   ]
  },
  {
   "cell_type": "code",
   "execution_count": 3,
   "metadata": {},
   "outputs": [],
   "source": [
    "def func5(path):\n",
    "    frame = cv2.imread(path)\n",
    "    frame = cv2.resize(frame,(100,100))\n",
    "    frame = cv2.GaussianBlur(frame,(5,5),0)\n",
    "    # downsize it to reduce processing time\n",
    "    converted = cv2.cvtColor(frame, cv2.COLOR_BGR2HSV) # Convert from RGB to HSV\n",
    "    lowerBoundary = np.array([0,40,30],dtype=\"uint8\")\n",
    "    upperBoundary = np.array([43,255,254],dtype=\"uint8\")\n",
    "    skinMask = cv2.inRange(converted, lowerBoundary, upperBoundary)\n",
    "    kernel = cv2.getStructuringElement(cv2.MORPH_RECT,(3, 3))\n",
    "    \n",
    "    img = cv2.dilate(skinMask,kernel)\n",
    "\n",
    "    img = cv2.erode(img,kernel)\n",
    "\n",
    "    edges = cv2.Canny(img, 30, 70)  # canny边缘检测 \n",
    "\n",
    "#    cv2.imshow('wsdwe',edges)\n",
    "#    cv2.waitKey(0)\n",
    "#    cv2.destroyAllWindows()\n",
    "    return edges  "
   ]
  },
  {
   "cell_type": "code",
   "execution_count": 15,
   "metadata": {},
   "outputs": [],
   "source": [
    "def func(path):    \n",
    "    frame = cv2.imread(path)\n",
    "    frame = cv2.resize(frame,(100,100))\n",
    "    # downsize it to reduce processing time\n",
    "    #cv2.imshow(\"original\",frame)\n",
    "    converted = cv2.cvtColor(frame, cv2.COLOR_BGR2HSV) # Convert from RGB to HSV\n",
    "    #print(frame.shape)\n",
    "    #tuned settings\n",
    "    lowerBoundary = np.array([0,40,30],dtype=\"uint8\")\n",
    "    upperBoundary = np.array([43,255,254],dtype=\"uint8\")\n",
    "\n",
    "    skinMask = cv2.inRange(converted, lowerBoundary, upperBoundary)\n",
    "#    cv2.imshow(\"masked\",skinMask)\n",
    "    \n",
    "    # apply a series of erosions and dilations to the mask using an elliptical kernel\n",
    "    kernel = cv2.getStructuringElement(cv2.MORPH_ELLIPSE, (3,3))\n",
    "    skinMask = cv2.erode(skinMask, kernel, iterations = 2)\n",
    "#    cv2.imshow(\"masked02\",skinMask)\n",
    "    skinMask = cv2.dilate(skinMask, kernel, iterations = 2)\n",
    "#    cv2.imshow(\"masked03\",skinMask)\n",
    "\n",
    "    lowerBoundary = np.array([170,80,30],dtype=\"uint8\")\n",
    "    upperBoundary = np.array([180,255,250],dtype=\"uint8\")\n",
    "\n",
    "    skinMask2 = cv2.inRange(converted, lowerBoundary, upperBoundary)\n",
    "    skinMask = cv2.addWeighted(skinMask,0.5,skinMask2,0.5,0.0)\n",
    "#    cv2.imshow(\"masked04\",skinMask)\n",
    "    #print(skinMask.flatten())\n",
    "    #print(skinMask.shape)\n",
    "\n",
    "    # blur the mask to help remove noise, then apply the\n",
    "    # mask to the frame\n",
    "    skinMask = cv2.medianBlur(skinMask, 5)\n",
    "    skin = cv2.bitwise_and(frame, frame, mask = skinMask)\n",
    "    frame = cv2.addWeighted(frame,1.5,skin,-0.5,0)\n",
    "    skin = cv2.bitwise_and(frame, frame, mask = skinMask)\n",
    "\n",
    "    #cv2.imshow(\"masked\",skin) # Everything apart from skin is shown to be black\n",
    "\n",
    "    h,w = skin.shape[:2]\n",
    "    bw_image = cv2.cvtColor(skin, cv2.COLOR_HSV2BGR)  # Convert image from HSV to BGR format\n",
    "    bw_image = cv2.cvtColor(skin, cv2.COLOR_BGR2GRAY)  # Convert image from BGR to gray format\n",
    "    bw_image = cv2.GaussianBlur(bw_image,(5,5),0)  # Highlight the main object\n",
    "    threshold = 1\n",
    "    for i in range(h):\n",
    "        for j in range(w):\n",
    "            if bw_image[i][j] > threshold:\n",
    "               bw_image[i][j] = 255\n",
    "            else:\n",
    "               bw_image[i][j] = 0\n",
    "\n",
    "#    cv2.imshow(\"thresholded\",bw_image)\n",
    "#    cv2.waitKey(0)\n",
    "#    cv2.destroyAllWindows()\n",
    "    return bw_image\n"
   ]
  },
  {
   "cell_type": "code",
   "execution_count": 17,
   "metadata": {},
   "outputs": [],
   "source": [
    "def func3(path):\n",
    "    img = cv2.imread(path)\n",
    "    img = cv2.resize(img,(100,100))\n",
    "    \n",
    "    img = cv2.fastNlMeansDenoisingColored(img,None,10,10,7,21)\n",
    "#    cv2.imshow('dst',img)\n",
    "    img = cv2.cvtColor(img, cv2.COLOR_BGR2GRAY)\n",
    "    edges = cv2.Canny(img, 30, 70)  # canny边缘检测   \n",
    "#    cv2.imshow('thresholded',edges)\n",
    "#    img90=np.rot90(edges)\n",
    "#    cv2.imshow(\"rotate\",img90)\n",
    "#    cv2.waitKey(0)\n",
    "#    cv2.destroyAllWindows()\n",
    "    return edges"
   ]
  },
  {
   "cell_type": "code",
   "execution_count": 23,
   "metadata": {},
   "outputs": [],
   "source": [
    "def func6(img):\n",
    "    img = cv2.imread(img)\n",
    "    #img = cv2.GaussianBlur(img,(5,5),0)\n",
    "    frame = cv2.resize(img,(100,100))\n",
    "    frame = cv2.GaussianBlur(frame,(5,5),0)\n",
    "    # downsize it to reduce processing time\n",
    "    #cv2.imshow(\"original\",frame)\n",
    "    converted = cv2.cvtColor(frame, cv2.COLOR_BGR2HSV) # Convert from RGB to HSV\n",
    "    #print(frame.shape)\n",
    "    #tuned settings\n",
    "    lowerBoundary = np.array([0,40,30],dtype=\"uint8\")\n",
    "    upperBoundary = np.array([43,255,254],dtype=\"uint8\")\n",
    "    skinMask = cv2.inRange(converted, lowerBoundary, upperBoundary)\n",
    "#    print(skinMask.shape)\n",
    "#    print(type(skinMask))\n",
    "#    cv2.imshow(\"masked\",skinMask)   \n",
    "    #img = cv2.medianBlur(img, 5)\n",
    "    kernel = cv2.getStructuringElement(cv2.MORPH_RECT,(3, 3))\n",
    "    img = cv2.dilate(skinMask,kernel)\n",
    "    img = cv2.erode(img,kernel)\n",
    "#    cv2.imshow('wedwe',img)\n",
    "    edges = cv2.Canny(img, 30, 70)  # canny边缘检测\n",
    "#    edges = cv2.medianBlur(edges, 3)  \n",
    "#    cv2.imshow('wsdwe',edges)\n",
    "    #cv2.waitKey(0)\n",
    "    #cv2.destroyAllWindows()\n",
    "    return edges "
   ]
  },
  {
   "cell_type": "code",
   "execution_count": 14,
   "metadata": {},
   "outputs": [
    {
     "name": "stdout",
     "output_type": "stream",
     "text": [
      "<class 'numpy.ndarray'>\n",
      "(100, 100, 3)\n"
     ]
    },
    {
     "data": {
      "text/plain": [
       "<matplotlib.image.AxesImage at 0x7f93d4579850>"
      ]
     },
     "execution_count": 14,
     "metadata": {},
     "output_type": "execute_result"
    },
    {
     "data": {
      "image/png": "[encoded data removed]",
      "text/plain": [
       "<Figure size 432x288 with 1 Axes>"
      ]
     },
     "metadata": {
      "needs_background": "light"
     },
     "output_type": "display_data"
    }
   ],
   "source": [
    "preimage = cv2.imread('data/Dataset/1/IMG_1119.JPG')\n",
    "print(type(preimage))\n",
    "print(preimage.shape)\n",
    "plt.imshow(preimage)"
   ]
  },
  {
   "cell_type": "code",
   "execution_count": 10,
   "metadata": {},
   "outputs": [
    {
     "name": "stdout",
     "output_type": "stream",
     "text": [
      "<class 'numpy.ndarray'>\n",
      "(100, 100)\n"
     ]
    },
    {
     "data": {
      "text/plain": [
       "<matplotlib.image.AxesImage at 0x7f93d46d0c50>"
      ]
     },
     "execution_count": 10,
     "metadata": {},
     "output_type": "execute_result"
    },
    {
     "data": {
      "image/png": "[encoded data removed]",
      "text/plain": [
       "<Figure size 432x288 with 1 Axes>"
      ]
     },
     "metadata": {
      "needs_background": "light"
     },
     "output_type": "display_data"
    }
   ],
   "source": [
    "image = process('data/Dataset/1/IMG_1119.JPG')\n",
    "print(type(image))\n",
    "print(image.shape)\n",
    "plt.imshow(image)"
   ]
  },
  {
   "cell_type": "code",
   "execution_count": 16,
   "metadata": {},
   "outputs": [
    {
     "name": "stdout",
     "output_type": "stream",
     "text": [
      "<class 'numpy.ndarray'>\n",
      "(100, 100)\n"
     ]
    },
    {
     "data": {
      "text/plain": [
       "<matplotlib.image.AxesImage at 0x7f93d468c1d0>"
      ]
     },
     "execution_count": 16,
     "metadata": {},
     "output_type": "execute_result"
    },
    {
     "data": {
      "image/png": "[encoded data removed]",
      "text/plain": [
       "<Figure size 432x288 with 1 Axes>"
      ]
     },
     "metadata": {
      "needs_background": "light"
     },
     "output_type": "display_data"
    }
   ],
   "source": [
    "image2 = func('data/Dataset/1/IMG_1119.JPG')\n",
    "print(type(image2))\n",
    "print(image2.shape)\n",
    "plt.imshow(image2)"
   ]
  },
  {
   "cell_type": "code",
   "execution_count": 18,
   "metadata": {},
   "outputs": [
    {
     "name": "stdout",
     "output_type": "stream",
     "text": [
      "<class 'numpy.ndarray'>\n",
      "(100, 100)\n"
     ]
    },
    {
     "data": {
      "text/plain": [
       "<matplotlib.image.AxesImage at 0x7f93d456ed50>"
      ]
     },
     "execution_count": 18,
     "metadata": {},
     "output_type": "execute_result"
    },
    {
     "data": {
      "image/png": "[encoded data removed]",
      "text/plain": [
       "<Figure size 432x288 with 1 Axes>"
      ]
     },
     "metadata": {
      "needs_background": "light"
     },
     "output_type": "display_data"
    }
   ],
   "source": [
    "image3 = func3('data/Dataset/1/IMG_1119.JPG')\n",
    "print(type(image3))\n",
    "print(image3.shape)\n",
    "plt.imshow(image3)"
   ]
  },
  {
   "cell_type": "code",
   "execution_count": 24,
   "metadata": {},
   "outputs": [
    {
     "name": "stdout",
     "output_type": "stream",
     "text": [
      "<class 'numpy.ndarray'>\n",
      "(100, 100)\n"
     ]
    },
    {
     "data": {
      "text/plain": [
       "<matplotlib.image.AxesImage at 0x7f93d418fdd0>"
      ]
     },
     "execution_count": 24,
     "metadata": {},
     "output_type": "execute_result"
    },
    {
     "data": {
      "image/png": "[encoded data removed]",
      "text/plain": [
       "<Figure size 432x288 with 1 Axes>"
      ]
     },
     "metadata": {
      "needs_background": "light"
     },
     "output_type": "display_data"
    }
   ],
   "source": [
    "image4 = func6('data/Dataset/1/IMG_1119.JPG')\n",
    "print(type(image4))\n",
    "print(image4.shape)\n",
    "plt.imshow(image4)"
   ]
  },
  {
   "cell_type": "code",
   "execution_count": 29,
   "metadata": {},
   "outputs": [
    {
     "name": "stdout",
     "output_type": "stream",
     "text": [
      "<class 'numpy.ndarray'>\n",
      "(100, 100)\n"
     ]
    },
    {
     "data": {
      "text/plain": [
       "<matplotlib.image.AxesImage at 0x7f93d402a490>"
      ]
     },
     "execution_count": 29,
     "metadata": {},
     "output_type": "execute_result"
    },
    {
     "data": {
      "image/png": "[encoded data removed]",
      "text/plain": [
       "<Figure size 432x288 with 1 Axes>"
      ]
     },
     "metadata": {
      "needs_background": "light"
     },
     "output_type": "display_data"
    },
    {
     "data": {
      "image/png": "[encoded data removed]",
      "text/plain": [
       "<Figure size 432x288 with 1 Axes>"
      ]
     },
     "metadata": {
      "needs_background": "light"
     },
     "output_type": "display_data"
    }
   ],
   "source": [
    "image = func6('data/Dataset/2/IMG_4215.JPG')\n",
    "print(type(image))\n",
    "print(image.shape)\n",
    "plt.imshow(image)\n",
    "plt.figure()\n",
    "plt.imshow(cv2.imread('data/Dataset/2/IMG_4215.JPG'))"
   ]
  },
  {
   "cell_type": "code",
   "execution_count": 31,
   "metadata": {},
   "outputs": [],
   "source": [
    "def img_preprocess(img_path):\n",
    "    img = func5(img_path)\n",
    "    img = transformer_ImageNet(img)\n",
    "    return img     "
   ]
  },
  {
   "cell_type": "code",
   "execution_count": 33,
   "metadata": {},
   "outputs": [],
   "source": [
    "from torchvision import transforms\n",
    "transformer_ImageNet = transforms.Compose([\n",
    "  #   transforms.Resize((300, 300)),\n",
    "    transforms.ToTensor()\n",
    "])"
   ]
  },
  {
   "cell_type": "code",
   "execution_count": 35,
   "metadata": {},
   "outputs": [
    {
     "name": "stdout",
     "output_type": "stream",
     "text": [
      "<class 'torch.Tensor'>\n",
      "torch.Size([1, 100, 100])\n"
     ]
    }
   ],
   "source": [
    "image = img_preprocess('data/Dataset/2/IMG_4215.JPG')\n",
    "print(type(image))\n",
    "print(image.shape)\n",
    "# print(image.shape)\n",
    "# plt.imshow(image)"
   ]
  }
 ],
 "metadata": {
  "kernelspec": {
   "display_name": "Python(1年级)",
   "language": "python",
   "name": "deeplearn1"
  },
  "language_info": {
   "codemirror_mode": {
    "name": "ipython",
    "version": 3
   },
   "file_extension": ".py",
   "mimetype": "text/x-python",
   "name": "python",
   "nbconvert_exporter": "python",
   "pygments_lexer": "ipython3",
   "version": "3.7.6"
  }
 },
 "nbformat": 4,
 "nbformat_minor": 4
}
